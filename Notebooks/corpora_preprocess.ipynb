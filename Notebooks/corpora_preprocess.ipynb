{
 "cells": [
  {
   "attachments": {},
   "cell_type": "markdown",
   "metadata": {},
   "source": [
    "# Corpora preprocessing"
   ]
  },
  {
   "cell_type": "code",
   "execution_count": 1,
   "metadata": {},
   "outputs": [],
   "source": [
    "import pandas as pd\n",
    "from pathlib import Path\n",
    "\n",
    "corpus_path = '../dataset/'\n",
    "\n",
    "corpus = pd.read_excel(Path(corpus_path , 'Annotated_Metaphor_Corpus_V2.xlsx'))"
   ]
  },
  {
   "cell_type": "code",
   "execution_count": 2,
   "metadata": {},
   "outputs": [
    {
     "data": {
      "text/html": [
       "<div>\n",
       "<style scoped>\n",
       "    .dataframe tbody tr th:only-of-type {\n",
       "        vertical-align: middle;\n",
       "    }\n",
       "\n",
       "    .dataframe tbody tr th {\n",
       "        vertical-align: top;\n",
       "    }\n",
       "\n",
       "    .dataframe thead th {\n",
       "        text-align: right;\n",
       "    }\n",
       "</style>\n",
       "<table border=\"1\" class=\"dataframe\">\n",
       "  <thead>\n",
       "    <tr style=\"text-align: right;\">\n",
       "      <th></th>\n",
       "      <th>Sentence</th>\n",
       "      <th>Metaphor</th>\n",
       "      <th>Type</th>\n",
       "      <th>Metaphor.1</th>\n",
       "      <th>Type.1</th>\n",
       "      <th>Metaphor.2</th>\n",
       "      <th>Type.2</th>\n",
       "      <th>Metaphor.3</th>\n",
       "      <th>Type.3</th>\n",
       "      <th>Metaphor.4</th>\n",
       "      <th>Type.4</th>\n",
       "    </tr>\n",
       "  </thead>\n",
       "  <tbody>\n",
       "    <tr>\n",
       "      <th>0</th>\n",
       "      <td>Dissento, però ne prendo atto. ParlaMint-IT_20...</td>\n",
       "      <td>yes</td>\n",
       "      <td>migrant</td>\n",
       "      <td>yes</td>\n",
       "      <td>migrant</td>\n",
       "      <td>yes</td>\n",
       "      <td>migrant</td>\n",
       "      <td>no</td>\n",
       "      <td>none</td>\n",
       "      <td>yes</td>\n",
       "      <td>migrant</td>\n",
       "    </tr>\n",
       "    <tr>\n",
       "      <th>1</th>\n",
       "      <td>ading, I believe that many of us on these Be...</td>\n",
       "      <td>no</td>\n",
       "      <td>none</td>\n",
       "      <td>no</td>\n",
       "      <td>none</td>\n",
       "      <td>no</td>\n",
       "      <td>none</td>\n",
       "      <td>NaN</td>\n",
       "      <td>NaN</td>\n",
       "      <td>no</td>\n",
       "      <td>none</td>\n",
       "    </tr>\n",
       "    <tr>\n",
       "      <th>2</th>\n",
       "      <td>alla NATO e all'Europa. E allora ci vuole un...</td>\n",
       "      <td>yes</td>\n",
       "      <td>migrant</td>\n",
       "      <td>yes</td>\n",
       "      <td>migrant</td>\n",
       "      <td>yes</td>\n",
       "      <td>migrant</td>\n",
       "      <td>yes</td>\n",
       "      <td>migrant</td>\n",
       "      <td>no</td>\n",
       "      <td>none</td>\n",
       "    </tr>\n",
       "    <tr>\n",
       "      <th>3</th>\n",
       "      <td>- credono di esserlo più dell'Italia, ma sono...</td>\n",
       "      <td>yes</td>\n",
       "      <td>migrant</td>\n",
       "      <td>yes</td>\n",
       "      <td>migrant</td>\n",
       "      <td>yes</td>\n",
       "      <td>migrant</td>\n",
       "      <td>yes</td>\n",
       "      <td>migrant</td>\n",
       "      <td>yes</td>\n",
       "      <td>migrant</td>\n",
       "    </tr>\n",
       "    <tr>\n",
       "      <th>4</th>\n",
       "      <td>di giovedì e venerdì prossimi, non può conti...</td>\n",
       "      <td>yes</td>\n",
       "      <td>migrant</td>\n",
       "      <td>yes</td>\n",
       "      <td>migrant</td>\n",
       "      <td>yes</td>\n",
       "      <td>migrant</td>\n",
       "      <td>yes</td>\n",
       "      <td>migrant</td>\n",
       "      <td>yes</td>\n",
       "      <td>migrant</td>\n",
       "    </tr>\n",
       "    <tr>\n",
       "      <th>...</th>\n",
       "      <td>...</td>\n",
       "      <td>...</td>\n",
       "      <td>...</td>\n",
       "      <td>...</td>\n",
       "      <td>...</td>\n",
       "      <td>...</td>\n",
       "      <td>...</td>\n",
       "      <td>...</td>\n",
       "      <td>...</td>\n",
       "      <td>...</td>\n",
       "      <td>...</td>\n",
       "    </tr>\n",
       "    <tr>\n",
       "      <th>599</th>\n",
       "      <td>tire, signor Presidente del Consiglio, anche ...</td>\n",
       "      <td>no</td>\n",
       "      <td>none</td>\n",
       "      <td>no</td>\n",
       "      <td>none</td>\n",
       "      <td>yes</td>\n",
       "      <td>migrant</td>\n",
       "      <td>no</td>\n",
       "      <td>none</td>\n",
       "      <td>no</td>\n",
       "      <td>none</td>\n",
       "    </tr>\n",
       "    <tr>\n",
       "      <th>600</th>\n",
       "      <td>tività della UE». Questo lo vedremo nel quadr...</td>\n",
       "      <td>no</td>\n",
       "      <td>none</td>\n",
       "      <td>no</td>\n",
       "      <td>none</td>\n",
       "      <td>NaN</td>\n",
       "      <td>NaN</td>\n",
       "      <td>no</td>\n",
       "      <td>none</td>\n",
       "      <td>no</td>\n",
       "      <td>none</td>\n",
       "    </tr>\n",
       "    <tr>\n",
       "      <th>601</th>\n",
       "      <td>una decisione finale - l'accordo con il Canad...</td>\n",
       "      <td>no</td>\n",
       "      <td>none</td>\n",
       "      <td>no</td>\n",
       "      <td>none</td>\n",
       "      <td>yes</td>\n",
       "      <td>migrant</td>\n",
       "      <td>no</td>\n",
       "      <td>none</td>\n",
       "      <td>no</td>\n",
       "      <td>none</td>\n",
       "    </tr>\n",
       "    <tr>\n",
       "      <th>602</th>\n",
       "      <td>whom it was £150. The charge was doubled by t...</td>\n",
       "      <td>no</td>\n",
       "      <td>none</td>\n",
       "      <td>no</td>\n",
       "      <td>none</td>\n",
       "      <td>no</td>\n",
       "      <td>none</td>\n",
       "      <td>no</td>\n",
       "      <td>none</td>\n",
       "      <td>no</td>\n",
       "      <td>none</td>\n",
       "    </tr>\n",
       "    <tr>\n",
       "      <th>603</th>\n",
       "      <td>zioni ma alle prossime generazioni, e la dist...</td>\n",
       "      <td>no</td>\n",
       "      <td>none</td>\n",
       "      <td>no</td>\n",
       "      <td>none</td>\n",
       "      <td>no</td>\n",
       "      <td>none</td>\n",
       "      <td>no</td>\n",
       "      <td>none</td>\n",
       "      <td>no</td>\n",
       "      <td>none</td>\n",
       "    </tr>\n",
       "  </tbody>\n",
       "</table>\n",
       "<p>604 rows × 11 columns</p>\n",
       "</div>"
      ],
      "text/plain": [
       "                                              Sentence Metaphor     Type  \\\n",
       "0    Dissento, però ne prendo atto. ParlaMint-IT_20...      yes  migrant   \n",
       "1      ading, I believe that many of us on these Be...       no     none   \n",
       "2      alla NATO e all'Europa. E allora ci vuole un...      yes  migrant   \n",
       "3     - credono di esserlo più dell'Italia, ma sono...      yes  migrant   \n",
       "4      di giovedì e venerdì prossimi, non può conti...      yes  migrant   \n",
       "..                                                 ...      ...      ...   \n",
       "599   tire, signor Presidente del Consiglio, anche ...       no     none   \n",
       "600   tività della UE». Questo lo vedremo nel quadr...       no     none   \n",
       "601   una decisione finale - l'accordo con il Canad...       no     none   \n",
       "602   whom it was £150. The charge was doubled by t...       no     none   \n",
       "603   zioni ma alle prossime generazioni, e la dist...       no     none   \n",
       "\n",
       "    Metaphor.1   Type.1 Metaphor.2   Type.2 Metaphor.3   Type.3 Metaphor.4  \\\n",
       "0          yes  migrant        yes  migrant         no     none        yes   \n",
       "1           no     none         no     none        NaN      NaN         no   \n",
       "2          yes  migrant        yes  migrant        yes  migrant         no   \n",
       "3          yes  migrant        yes  migrant        yes  migrant        yes   \n",
       "4          yes  migrant        yes  migrant        yes  migrant        yes   \n",
       "..         ...      ...        ...      ...        ...      ...        ...   \n",
       "599         no     none        yes  migrant         no     none         no   \n",
       "600         no     none        NaN      NaN         no     none         no   \n",
       "601         no     none        yes  migrant         no     none         no   \n",
       "602         no     none         no     none         no     none         no   \n",
       "603         no     none         no     none         no     none         no   \n",
       "\n",
       "      Type.4  \n",
       "0    migrant  \n",
       "1       none  \n",
       "2       none  \n",
       "3    migrant  \n",
       "4    migrant  \n",
       "..       ...  \n",
       "599     none  \n",
       "600     none  \n",
       "601     none  \n",
       "602     none  \n",
       "603     none  \n",
       "\n",
       "[604 rows x 11 columns]"
      ]
     },
     "execution_count": 2,
     "metadata": {},
     "output_type": "execute_result"
    }
   ],
   "source": [
    "corpus"
   ]
  },
  {
   "cell_type": "code",
   "execution_count": 3,
   "metadata": {},
   "outputs": [],
   "source": [
    "import numpy as np\n",
    "corpus = corpus.fillna(np.nan)"
   ]
  },
  {
   "attachments": {},
   "cell_type": "markdown",
   "metadata": {},
   "source": [
    "### Check for duplicates"
   ]
  },
  {
   "cell_type": "code",
   "execution_count": 4,
   "metadata": {},
   "outputs": [
    {
     "data": {
      "text/plain": [
       "0"
      ]
     },
     "execution_count": 4,
     "metadata": {},
     "output_type": "execute_result"
    }
   ],
   "source": [
    "len(list(corpus[corpus.Sentence.duplicated(keep=False)].groupby('Sentence')))"
   ]
  },
  {
   "attachments": {},
   "cell_type": "markdown",
   "metadata": {},
   "source": [
    "### Label regularization and aggregation"
   ]
  },
  {
   "cell_type": "code",
   "execution_count": 5,
   "metadata": {},
   "outputs": [
    {
     "data": {
      "text/plain": [
       "array(['migrant', 'none', 'covid', nan, 'Migrants'], dtype=object)"
      ]
     },
     "execution_count": 5,
     "metadata": {},
     "output_type": "execute_result"
    }
   ],
   "source": [
    "corpus['Type.1'].unique()"
   ]
  },
  {
   "cell_type": "code",
   "execution_count": 6,
   "metadata": {},
   "outputs": [],
   "source": [
    "corpus['Type.1'] = corpus['Type.1'].replace('Migrants', 'migrant')"
   ]
  },
  {
   "cell_type": "code",
   "execution_count": 7,
   "metadata": {},
   "outputs": [
    {
     "data": {
      "text/plain": [
       "array(['migrant', 'none', 'covid', nan], dtype=object)"
      ]
     },
     "execution_count": 7,
     "metadata": {},
     "output_type": "execute_result"
    }
   ],
   "source": [
    "corpus['Type.1'].unique()"
   ]
  },
  {
   "cell_type": "code",
   "execution_count": 8,
   "metadata": {},
   "outputs": [
    {
     "name": "stdout",
     "output_type": "stream",
     "text": [
      "Metaphor\n",
      "no       370\n",
      "yes      185\n",
      "  yes      1\n",
      "yes        1\n",
      "Name: count, dtype: int64\n",
      "Metaphor.1\n",
      "no      430\n",
      "yes     143\n",
      "Yes      17\n",
      "yes       4\n",
      "Yes       4\n",
      "Name: count, dtype: int64\n",
      "Metaphor.2\n",
      "no      378\n",
      "yes     204\n",
      "Yes       9\n",
      "yes       4\n",
      "Yes       2\n",
      "Name: count, dtype: int64\n",
      "Metaphor.3\n",
      "no      194\n",
      "yes     130\n",
      "yes      18\n",
      "Name: count, dtype: int64\n",
      "Metaphor.4\n",
      "no      186\n",
      "yes     116\n",
      "none      1\n",
      "Name: count, dtype: int64\n"
     ]
    }
   ],
   "source": [
    "print(corpus['Metaphor'].value_counts())\n",
    "corpus['Metaphor'] = corpus['Metaphor'].replace(' yes', 'yes')\n",
    "corpus['Metaphor'] = corpus['Metaphor'].replace('  yes', 'yes')\n",
    "corpus['Metaphor'] = corpus['Metaphor'].replace('yes ', 'yes')\n",
    "print(corpus['Metaphor.1'].value_counts())\n",
    "corpus['Metaphor.1'] = corpus['Metaphor.1'].replace('Yes', 'yes')\n",
    "corpus['Metaphor.1'] = corpus['Metaphor.1'].replace('Yes ', 'yes')\n",
    "corpus['Metaphor.1'] = corpus['Metaphor.1'].replace('yes ', 'yes')\n",
    "print(corpus['Metaphor.2'].value_counts())\n",
    "corpus['Metaphor.2'] = corpus['Metaphor.2'].replace('Yes ', 'yes')\n",
    "corpus['Metaphor.2'] = corpus['Metaphor.2'].replace('yes ', 'yes')\n",
    "corpus['Metaphor.2'] = corpus['Metaphor.2'].replace('Yes', 'yes')\n",
    "print(corpus['Metaphor.3'].value_counts())\n",
    "corpus['Metaphor.3'] = corpus['Metaphor.3'].replace('yes ', 'yes')\n",
    "print(corpus['Metaphor.4'].value_counts())\n",
    "corpus['Metaphor.4'] = corpus['Metaphor.4'].replace('none', 'no')"
   ]
  },
  {
   "attachments": {},
   "cell_type": "markdown",
   "metadata": {},
   "source": [
    "### Annotator consensus"
   ]
  },
  {
   "cell_type": "code",
   "execution_count": 9,
   "metadata": {},
   "outputs": [],
   "source": [
    "from collections import Counter\n",
    "def majority_vote(row, columns):\n",
    "    votes = row[columns].dropna()\n",
    "    vote_counts = Counter(votes)\n",
    "    max_votes = max(vote_counts.values())\n",
    "    labels = [k for k,v in vote_counts.items() if v == max_votes]\n",
    "    if len(labels) > 1:\n",
    "        return 'Equal split: ' + ', '.join(labels)\n",
    "    else:\n",
    "        return labels[0]\n",
    "\n",
    "corpus['label'] = corpus.apply(lambda x: majority_vote(x,  ['Type', 'Type.1', 'Type.2', 'Type.3', 'Type.4']), axis=1)"
   ]
  },
  {
   "cell_type": "code",
   "execution_count": 10,
   "metadata": {},
   "outputs": [
    {
     "name": "stdout",
     "output_type": "stream",
     "text": [
      "label\n",
      "none                           408\n",
      "migrant                        153\n",
      "Equal split: migrant, none      25\n",
      "Equal split: none, migrant      13\n",
      "covid                            2\n",
      "Equal split: covid, none         2\n",
      "Equal split: covid, migrant      1\n",
      "Name: count, dtype: int64\n",
      "label\n",
      "none                           67.549669\n",
      "migrant                        25.331126\n",
      "Equal split: migrant, none      4.139073\n",
      "Equal split: none, migrant      2.152318\n",
      "covid                           0.331126\n",
      "Equal split: covid, none        0.331126\n",
      "Equal split: covid, migrant     0.165563\n",
      "Name: count, dtype: float64\n"
     ]
    }
   ],
   "source": [
    "# Calculate the frequency of each class in 'label' column\n",
    "class_counts = corpus['label'].value_counts()\n",
    "\n",
    "print(class_counts)\n",
    "# Calculate the percentage of each class\n",
    "class_percentages = class_counts / len(corpus['label'].dropna()) * 100\n",
    "\n",
    "print(class_percentages)"
   ]
  },
  {
   "attachments": {},
   "cell_type": "markdown",
   "metadata": {},
   "source": [
    "We remove covid, as they are only 2 samples, 5 at best."
   ]
  },
  {
   "cell_type": "code",
   "execution_count": 11,
   "metadata": {},
   "outputs": [],
   "source": [
    "corpus['label_binary'] = corpus.apply(lambda x: majority_vote(x,['Metaphor', 'Metaphor.1', 'Metaphor.2', 'Metaphor.3', 'Metaphor.4']), axis=1)"
   ]
  },
  {
   "cell_type": "code",
   "execution_count": 12,
   "metadata": {},
   "outputs": [
    {
     "name": "stdout",
     "output_type": "stream",
     "text": [
      "label_binary\n",
      "no                      407\n",
      "yes                     156\n",
      "Equal split: yes, no     27\n",
      "Equal split: no, yes     14\n",
      "Name: count, dtype: int64\n",
      "label_binary\n",
      "no                      67.384106\n",
      "yes                     25.827815\n",
      "Equal split: yes, no     4.470199\n",
      "Equal split: no, yes     2.317881\n",
      "Name: count, dtype: float64\n"
     ]
    }
   ],
   "source": [
    "# Calculate the frequency of each class in 'label' column\n",
    "class_counts = corpus['label_binary'].value_counts()\n",
    "\n",
    "print(class_counts)\n",
    "# Calculate the percentage of each class\n",
    "class_percentages = class_counts / len(corpus['label_binary'].dropna()) * 100\n",
    "\n",
    "print(class_percentages)"
   ]
  },
  {
   "cell_type": "code",
   "execution_count": 13,
   "metadata": {},
   "outputs": [],
   "source": [
    "corpus_filtered = corpus[corpus['label'].isin(['migrant', 'none'])] #removed covid\n",
    "corpus_filtered_binary = corpus[corpus['label_binary'].isin(['yes', 'no'])]"
   ]
  },
  {
   "cell_type": "code",
   "execution_count": 14,
   "metadata": {},
   "outputs": [],
   "source": [
    "corpus_filtered = corpus_filtered[['Sentence', 'label']]\n",
    "corpus_filtered_binary = corpus_filtered_binary[['Sentence', 'label_binary']]"
   ]
  },
  {
   "cell_type": "code",
   "execution_count": 15,
   "metadata": {},
   "outputs": [
    {
     "data": {
      "text/html": [
       "<div>\n",
       "<style scoped>\n",
       "    .dataframe tbody tr th:only-of-type {\n",
       "        vertical-align: middle;\n",
       "    }\n",
       "\n",
       "    .dataframe tbody tr th {\n",
       "        vertical-align: top;\n",
       "    }\n",
       "\n",
       "    .dataframe thead th {\n",
       "        text-align: right;\n",
       "    }\n",
       "</style>\n",
       "<table border=\"1\" class=\"dataframe\">\n",
       "  <thead>\n",
       "    <tr style=\"text-align: right;\">\n",
       "      <th></th>\n",
       "      <th>Sentence</th>\n",
       "      <th>label</th>\n",
       "    </tr>\n",
       "  </thead>\n",
       "  <tbody>\n",
       "    <tr>\n",
       "      <th>0</th>\n",
       "      <td>Dissento, però ne prendo atto. ParlaMint-IT_20...</td>\n",
       "      <td>migrant</td>\n",
       "    </tr>\n",
       "    <tr>\n",
       "      <th>1</th>\n",
       "      <td>ading, I believe that many of us on these Be...</td>\n",
       "      <td>none</td>\n",
       "    </tr>\n",
       "    <tr>\n",
       "      <th>2</th>\n",
       "      <td>alla NATO e all'Europa. E allora ci vuole un...</td>\n",
       "      <td>migrant</td>\n",
       "    </tr>\n",
       "    <tr>\n",
       "      <th>3</th>\n",
       "      <td>- credono di esserlo più dell'Italia, ma sono...</td>\n",
       "      <td>migrant</td>\n",
       "    </tr>\n",
       "    <tr>\n",
       "      <th>4</th>\n",
       "      <td>di giovedì e venerdì prossimi, non può conti...</td>\n",
       "      <td>migrant</td>\n",
       "    </tr>\n",
       "    <tr>\n",
       "      <th>...</th>\n",
       "      <td>...</td>\n",
       "      <td>...</td>\n",
       "    </tr>\n",
       "    <tr>\n",
       "      <th>599</th>\n",
       "      <td>tire, signor Presidente del Consiglio, anche ...</td>\n",
       "      <td>none</td>\n",
       "    </tr>\n",
       "    <tr>\n",
       "      <th>600</th>\n",
       "      <td>tività della UE». Questo lo vedremo nel quadr...</td>\n",
       "      <td>none</td>\n",
       "    </tr>\n",
       "    <tr>\n",
       "      <th>601</th>\n",
       "      <td>una decisione finale - l'accordo con il Canad...</td>\n",
       "      <td>none</td>\n",
       "    </tr>\n",
       "    <tr>\n",
       "      <th>602</th>\n",
       "      <td>whom it was £150. The charge was doubled by t...</td>\n",
       "      <td>none</td>\n",
       "    </tr>\n",
       "    <tr>\n",
       "      <th>603</th>\n",
       "      <td>zioni ma alle prossime generazioni, e la dist...</td>\n",
       "      <td>none</td>\n",
       "    </tr>\n",
       "  </tbody>\n",
       "</table>\n",
       "<p>561 rows × 2 columns</p>\n",
       "</div>"
      ],
      "text/plain": [
       "                                              Sentence    label\n",
       "0    Dissento, però ne prendo atto. ParlaMint-IT_20...  migrant\n",
       "1      ading, I believe that many of us on these Be...     none\n",
       "2      alla NATO e all'Europa. E allora ci vuole un...  migrant\n",
       "3     - credono di esserlo più dell'Italia, ma sono...  migrant\n",
       "4      di giovedì e venerdì prossimi, non può conti...  migrant\n",
       "..                                                 ...      ...\n",
       "599   tire, signor Presidente del Consiglio, anche ...     none\n",
       "600   tività della UE». Questo lo vedremo nel quadr...     none\n",
       "601   una decisione finale - l'accordo con il Canad...     none\n",
       "602   whom it was £150. The charge was doubled by t...     none\n",
       "603   zioni ma alle prossime generazioni, e la dist...     none\n",
       "\n",
       "[561 rows x 2 columns]"
      ]
     },
     "execution_count": 15,
     "metadata": {},
     "output_type": "execute_result"
    }
   ],
   "source": [
    "corpus_filtered"
   ]
  },
  {
   "cell_type": "code",
   "execution_count": 16,
   "metadata": {},
   "outputs": [
    {
     "data": {
      "text/html": [
       "<div>\n",
       "<style scoped>\n",
       "    .dataframe tbody tr th:only-of-type {\n",
       "        vertical-align: middle;\n",
       "    }\n",
       "\n",
       "    .dataframe tbody tr th {\n",
       "        vertical-align: top;\n",
       "    }\n",
       "\n",
       "    .dataframe thead th {\n",
       "        text-align: right;\n",
       "    }\n",
       "</style>\n",
       "<table border=\"1\" class=\"dataframe\">\n",
       "  <thead>\n",
       "    <tr style=\"text-align: right;\">\n",
       "      <th></th>\n",
       "      <th>Sentence</th>\n",
       "      <th>label_binary</th>\n",
       "    </tr>\n",
       "  </thead>\n",
       "  <tbody>\n",
       "    <tr>\n",
       "      <th>0</th>\n",
       "      <td>Dissento, però ne prendo atto. ParlaMint-IT_20...</td>\n",
       "      <td>yes</td>\n",
       "    </tr>\n",
       "    <tr>\n",
       "      <th>1</th>\n",
       "      <td>ading, I believe that many of us on these Be...</td>\n",
       "      <td>no</td>\n",
       "    </tr>\n",
       "    <tr>\n",
       "      <th>2</th>\n",
       "      <td>alla NATO e all'Europa. E allora ci vuole un...</td>\n",
       "      <td>yes</td>\n",
       "    </tr>\n",
       "    <tr>\n",
       "      <th>3</th>\n",
       "      <td>- credono di esserlo più dell'Italia, ma sono...</td>\n",
       "      <td>yes</td>\n",
       "    </tr>\n",
       "    <tr>\n",
       "      <th>4</th>\n",
       "      <td>di giovedì e venerdì prossimi, non può conti...</td>\n",
       "      <td>yes</td>\n",
       "    </tr>\n",
       "    <tr>\n",
       "      <th>...</th>\n",
       "      <td>...</td>\n",
       "      <td>...</td>\n",
       "    </tr>\n",
       "    <tr>\n",
       "      <th>599</th>\n",
       "      <td>tire, signor Presidente del Consiglio, anche ...</td>\n",
       "      <td>no</td>\n",
       "    </tr>\n",
       "    <tr>\n",
       "      <th>600</th>\n",
       "      <td>tività della UE». Questo lo vedremo nel quadr...</td>\n",
       "      <td>no</td>\n",
       "    </tr>\n",
       "    <tr>\n",
       "      <th>601</th>\n",
       "      <td>una decisione finale - l'accordo con il Canad...</td>\n",
       "      <td>no</td>\n",
       "    </tr>\n",
       "    <tr>\n",
       "      <th>602</th>\n",
       "      <td>whom it was £150. The charge was doubled by t...</td>\n",
       "      <td>no</td>\n",
       "    </tr>\n",
       "    <tr>\n",
       "      <th>603</th>\n",
       "      <td>zioni ma alle prossime generazioni, e la dist...</td>\n",
       "      <td>no</td>\n",
       "    </tr>\n",
       "  </tbody>\n",
       "</table>\n",
       "<p>563 rows × 2 columns</p>\n",
       "</div>"
      ],
      "text/plain": [
       "                                              Sentence label_binary\n",
       "0    Dissento, però ne prendo atto. ParlaMint-IT_20...          yes\n",
       "1      ading, I believe that many of us on these Be...           no\n",
       "2      alla NATO e all'Europa. E allora ci vuole un...          yes\n",
       "3     - credono di esserlo più dell'Italia, ma sono...          yes\n",
       "4      di giovedì e venerdì prossimi, non può conti...          yes\n",
       "..                                                 ...          ...\n",
       "599   tire, signor Presidente del Consiglio, anche ...           no\n",
       "600   tività della UE». Questo lo vedremo nel quadr...           no\n",
       "601   una decisione finale - l'accordo con il Canad...           no\n",
       "602   whom it was £150. The charge was doubled by t...           no\n",
       "603   zioni ma alle prossime generazioni, e la dist...           no\n",
       "\n",
       "[563 rows x 2 columns]"
      ]
     },
     "execution_count": 16,
     "metadata": {},
     "output_type": "execute_result"
    }
   ],
   "source": [
    "corpus_filtered_binary"
   ]
  },
  {
   "attachments": {},
   "cell_type": "markdown",
   "metadata": {},
   "source": [
    "### ADDING THE OTHER DATASET FOR BINARY CLASSIFICATION"
   ]
  },
  {
   "cell_type": "code",
   "execution_count": 17,
   "metadata": {},
   "outputs": [],
   "source": [
    "corpus_22 = pd.read_excel(Path(corpus_path , 'Annotated_Corpus_20_05_2023/Annotated_Corpus_02_10_2022.xlsx'))"
   ]
  },
  {
   "cell_type": "code",
   "execution_count": 18,
   "metadata": {},
   "outputs": [
    {
     "data": {
      "text/html": [
       "<div>\n",
       "<style scoped>\n",
       "    .dataframe tbody tr th:only-of-type {\n",
       "        vertical-align: middle;\n",
       "    }\n",
       "\n",
       "    .dataframe tbody tr th {\n",
       "        vertical-align: top;\n",
       "    }\n",
       "\n",
       "    .dataframe thead th {\n",
       "        text-align: right;\n",
       "    }\n",
       "</style>\n",
       "<table border=\"1\" class=\"dataframe\">\n",
       "  <thead>\n",
       "    <tr style=\"text-align: right;\">\n",
       "      <th></th>\n",
       "      <th>Sentence</th>\n",
       "      <th>Metaphor</th>\n",
       "    </tr>\n",
       "  </thead>\n",
       "  <tbody>\n",
       "    <tr>\n",
       "      <th>0</th>\n",
       "      <td>Considerate che il nostro sistema sanitario na...</td>\n",
       "      <td>NaN</td>\n",
       "    </tr>\n",
       "    <tr>\n",
       "      <th>1</th>\n",
       "      <td>Allo stesso tempo dobbiamo salvaguardare la ca...</td>\n",
       "      <td>Yes</td>\n",
       "    </tr>\n",
       "    <tr>\n",
       "      <th>2</th>\n",
       "      <td>Un ringraziamento sia alle associazioni di cat...</td>\n",
       "      <td>NaN</td>\n",
       "    </tr>\n",
       "    <tr>\n",
       "      <th>3</th>\n",
       "      <td>Dobbiamo approfittare per svolgere questa emer...</td>\n",
       "      <td>Yes</td>\n",
       "    </tr>\n",
       "    <tr>\n",
       "      <th>4</th>\n",
       "      <td>Informativa mi consente di offrire al parlamen...</td>\n",
       "      <td>Yes</td>\n",
       "    </tr>\n",
       "    <tr>\n",
       "      <th>...</th>\n",
       "      <td>...</td>\n",
       "      <td>...</td>\n",
       "    </tr>\n",
       "    <tr>\n",
       "      <th>223</th>\n",
       "      <td>There is no parallel between the cases of the ...</td>\n",
       "      <td>yes</td>\n",
       "    </tr>\n",
       "    <tr>\n",
       "      <th>224</th>\n",
       "      <td>It seemed at the Battery yesterday as if a ver...</td>\n",
       "      <td>yes</td>\n",
       "    </tr>\n",
       "    <tr>\n",
       "      <th>225</th>\n",
       "      <td>Immigration officials at the principal Atlanti...</td>\n",
       "      <td>yes</td>\n",
       "    </tr>\n",
       "    <tr>\n",
       "      <th>226</th>\n",
       "      <td>I am quite sure that these conditions could be...</td>\n",
       "      <td>yes</td>\n",
       "    </tr>\n",
       "    <tr>\n",
       "      <th>227</th>\n",
       "      <td>The cities are the very spots where the troubl...</td>\n",
       "      <td>yes</td>\n",
       "    </tr>\n",
       "  </tbody>\n",
       "</table>\n",
       "<p>228 rows × 2 columns</p>\n",
       "</div>"
      ],
      "text/plain": [
       "                                              Sentence Metaphor\n",
       "0    Considerate che il nostro sistema sanitario na...      NaN\n",
       "1    Allo stesso tempo dobbiamo salvaguardare la ca...      Yes\n",
       "2    Un ringraziamento sia alle associazioni di cat...      NaN\n",
       "3    Dobbiamo approfittare per svolgere questa emer...      Yes\n",
       "4    Informativa mi consente di offrire al parlamen...      Yes\n",
       "..                                                 ...      ...\n",
       "223  There is no parallel between the cases of the ...      yes\n",
       "224  It seemed at the Battery yesterday as if a ver...      yes\n",
       "225  Immigration officials at the principal Atlanti...      yes\n",
       "226  I am quite sure that these conditions could be...      yes\n",
       "227  The cities are the very spots where the troubl...      yes\n",
       "\n",
       "[228 rows x 2 columns]"
      ]
     },
     "execution_count": 18,
     "metadata": {},
     "output_type": "execute_result"
    }
   ],
   "source": [
    "corpus_22"
   ]
  },
  {
   "attachments": {},
   "cell_type": "markdown",
   "metadata": {},
   "source": [
    "### Regularization"
   ]
  },
  {
   "cell_type": "code",
   "execution_count": 19,
   "metadata": {},
   "outputs": [
    {
     "name": "stdout",
     "output_type": "stream",
     "text": [
      "Metaphor\n",
      "yes     165\n",
      "none     47\n",
      "Yes       7\n",
      "Name: count, dtype: int64\n"
     ]
    }
   ],
   "source": [
    "print(corpus_22.Metaphor.value_counts())\n",
    "corpus_22.Metaphor = corpus_22.Metaphor.replace('Yes', 'yes')\n",
    "corpus_22.Metaphor = corpus_22.Metaphor.replace('none', 'no')\n",
    "corpus_22 = corpus_22.rename(columns={'Metaphor': 'label'})"
   ]
  },
  {
   "cell_type": "code",
   "execution_count": 20,
   "metadata": {},
   "outputs": [],
   "source": [
    "corpus_filtered_binary = corpus_filtered_binary.rename(columns={'label_binary': 'label'})\n",
    "corpus_filtered_binary = pd.concat([corpus_filtered_binary, corpus_22], ignore_index=True).dropna()"
   ]
  },
  {
   "cell_type": "code",
   "execution_count": 21,
   "metadata": {},
   "outputs": [
    {
     "data": {
      "text/plain": [
       "label\n",
       "no     454\n",
       "yes    328\n",
       "Name: count, dtype: int64"
      ]
     },
     "execution_count": 21,
     "metadata": {},
     "output_type": "execute_result"
    }
   ],
   "source": [
    "corpus_filtered_binary.label.value_counts()"
   ]
  },
  {
   "attachments": {},
   "cell_type": "markdown",
   "metadata": {},
   "source": [
    "### Deduplication"
   ]
  },
  {
   "cell_type": "code",
   "execution_count": 22,
   "metadata": {},
   "outputs": [],
   "source": [
    "corpus_filtered_binary = corpus_filtered_binary.drop_duplicates(keep='first')"
   ]
  },
  {
   "cell_type": "code",
   "execution_count": 23,
   "metadata": {},
   "outputs": [
    {
     "data": {
      "text/plain": [
       "label\n",
       "no     453\n",
       "yes    318\n",
       "Name: count, dtype: int64"
      ]
     },
     "execution_count": 23,
     "metadata": {},
     "output_type": "execute_result"
    }
   ],
   "source": [
    "corpus_filtered_binary.label.value_counts()"
   ]
  },
  {
   "cell_type": "code",
   "execution_count": 24,
   "metadata": {},
   "outputs": [],
   "source": [
    "from sklearn.model_selection import train_test_split\n",
    "\n",
    "# Define features and target\n",
    "X_b = corpus_filtered_binary.drop('label', axis=1)\n",
    "y_b = corpus_filtered_binary['label']\n",
    "\n",
    "# Split the data into training and temp (validation+test) datasets\n",
    "X_train_b, X_temp, y_train_b, y_temp = train_test_split(X_b, y_b, test_size=0.2, stratify=y_b)\n",
    "\n",
    "# Split the temp data into validation and test datasets\n",
    "X_val_b, X_test_b, y_val_b, y_test_b = train_test_split(X_temp, y_temp, test_size=0.5, stratify=y_temp)"
   ]
  },
  {
   "cell_type": "code",
   "execution_count": 25,
   "metadata": {},
   "outputs": [],
   "source": [
    "X_train_b['labels'] = y_train_b\n",
    "X_val_b['labels'] = y_val_b\n",
    "X_test_b['labels'] = y_test_b"
   ]
  },
  {
   "cell_type": "code",
   "execution_count": 26,
   "metadata": {},
   "outputs": [
    {
     "data": {
      "text/plain": [
       "labels\n",
       "no     362\n",
       "yes    254\n",
       "Name: count, dtype: int64"
      ]
     },
     "execution_count": 26,
     "metadata": {},
     "output_type": "execute_result"
    }
   ],
   "source": [
    "X_train_b.labels.value_counts()"
   ]
  },
  {
   "cell_type": "code",
   "execution_count": 27,
   "metadata": {},
   "outputs": [],
   "source": [
    "from imblearn.over_sampling import RandomOverSampler\n",
    "\n",
    "# Instantiate the random oversampler\n",
    "ros = RandomOverSampler()\n",
    "\n",
    "# Perform oversampling\n",
    "X_resampled_b, y_resampled_b = ros.fit_resample(X_train_b.drop('labels', axis=1), X_train_b['labels'])"
   ]
  },
  {
   "cell_type": "code",
   "execution_count": 31,
   "metadata": {},
   "outputs": [
    {
     "name": "stdout",
     "output_type": "stream",
     "text": [
      "labels\n",
      "no     362\n",
      "yes    362\n",
      "Name: count, dtype: int64\n"
     ]
    }
   ],
   "source": [
    "print(y_resampled_b.value_counts())\n",
    "X_resampled_b['labels'] = y_resampled_b\n",
    "X_resampled_b['split'] = 'train'\n",
    "X_val_b['split'] = 'dev'\n",
    "X_test_b['split'] = 'test'\n",
    "final_df_binary = pd.concat([X_resampled_b, X_val_b, X_test_b])\n",
    "final_df_binary.to_csv('binary_oversampling_filtered_ds_remove_discrepancies.csv', index=False)\n"
   ]
  },
  {
   "cell_type": "code",
   "execution_count": null,
   "metadata": {},
   "outputs": [],
   "source": []
  },
  {
   "cell_type": "code",
   "execution_count": 32,
   "metadata": {},
   "outputs": [],
   "source": [
    "from imblearn.under_sampling import RandomUnderSampler\n",
    "\n",
    "# Instantiate the random oversampler\n",
    "ros = RandomUnderSampler()\n",
    "\n",
    "# Perform oversampling\n",
    "X_undersampled_b, y_undersampled_b = ros.fit_resample(X_train_b.drop('labels', axis=1), X_train_b['labels'])"
   ]
  },
  {
   "cell_type": "code",
   "execution_count": 33,
   "metadata": {},
   "outputs": [
    {
     "name": "stdout",
     "output_type": "stream",
     "text": [
      "labels\n",
      "no     254\n",
      "yes    254\n",
      "Name: count, dtype: int64\n"
     ]
    }
   ],
   "source": [
    "print(y_undersampled_b.value_counts())\n",
    "X_undersampled_b['labels'] = y_undersampled_b\n",
    "X_undersampled_b['split'] = 'train'\n",
    "\n",
    "final_df_binary = pd.concat([X_undersampled_b, X_val_b, X_test_b])\n",
    "final_df_binary.to_csv('binary_undersampling_filtered_ds_remove_discrepancies.csv', index=False)"
   ]
  },
  {
   "attachments": {},
   "cell_type": "markdown",
   "metadata": {},
   "source": [
    "### Stratify"
   ]
  },
  {
   "cell_type": "code",
   "execution_count": 16,
   "metadata": {},
   "outputs": [],
   "source": [
    "from sklearn.model_selection import train_test_split\n",
    "\n",
    "# Define features and target\n",
    "X = corpus_filtered.drop('label', axis=1)\n",
    "y = corpus_filtered['label']\n",
    "\n",
    "# Split the data into training and temp (validation+test) datasets\n",
    "X_train, X_temp, y_train, y_temp = train_test_split(X, y, test_size=0.2, stratify=y)\n",
    "\n",
    "# Split the temp data into validation and test datasets\n",
    "X_val, X_test, y_val, y_test = train_test_split(X_temp, y_temp, test_size=0.5, stratify=y_temp)"
   ]
  },
  {
   "cell_type": "code",
   "execution_count": 17,
   "metadata": {},
   "outputs": [],
   "source": [
    "X_train['labels'] = y_train\n",
    "X_val['labels'] = y_val\n",
    "X_test['labels'] = y_test"
   ]
  },
  {
   "cell_type": "code",
   "execution_count": 18,
   "metadata": {},
   "outputs": [
    {
     "data": {
      "text/html": [
       "<div>\n",
       "<style scoped>\n",
       "    .dataframe tbody tr th:only-of-type {\n",
       "        vertical-align: middle;\n",
       "    }\n",
       "\n",
       "    .dataframe tbody tr th {\n",
       "        vertical-align: top;\n",
       "    }\n",
       "\n",
       "    .dataframe thead th {\n",
       "        text-align: right;\n",
       "    }\n",
       "</style>\n",
       "<table border=\"1\" class=\"dataframe\">\n",
       "  <thead>\n",
       "    <tr style=\"text-align: right;\">\n",
       "      <th></th>\n",
       "      <th>Sentence</th>\n",
       "      <th>labels</th>\n",
       "    </tr>\n",
       "  </thead>\n",
       "  <tbody>\n",
       "    <tr>\n",
       "      <th>462</th>\n",
       "      <td>hole House expresses their condolences follow...</td>\n",
       "      <td>none</td>\n",
       "    </tr>\n",
       "    <tr>\n",
       "      <th>198</th>\n",
       "      <td>tile environment for migrants, many do not kno...</td>\n",
       "      <td>none</td>\n",
       "    </tr>\n",
       "    <tr>\n",
       "      <th>110</th>\n",
       "      <td>it on the record, because I do not think we ca...</td>\n",
       "      <td>none</td>\n",
       "    </tr>\n",
       "    <tr>\n",
       "      <th>219</th>\n",
       "      <td>the amendment in the Lobby later. ParlaMint-GB...</td>\n",
       "      <td>none</td>\n",
       "    </tr>\n",
       "    <tr>\n",
       "      <th>189</th>\n",
       "      <td>r Presidente del Consiglio - non è dovuto alla...</td>\n",
       "      <td>none</td>\n",
       "    </tr>\n",
       "    <tr>\n",
       "      <th>...</th>\n",
       "      <td>...</td>\n",
       "      <td>...</td>\n",
       "    </tr>\n",
       "    <tr>\n",
       "      <th>292</th>\n",
       "      <td>se about who was low-skilled completely dispro...</td>\n",
       "      <td>migrant</td>\n",
       "    </tr>\n",
       "    <tr>\n",
       "      <th>583</th>\n",
       "      <td>pea e di altri Governi dell'Unione europea de...</td>\n",
       "      <td>none</td>\n",
       "    </tr>\n",
       "    <tr>\n",
       "      <th>356</th>\n",
       "      <td>le stragi che insanguinano larga parte del Con...</td>\n",
       "      <td>none</td>\n",
       "    </tr>\n",
       "    <tr>\n",
       "      <th>522</th>\n",
       "      <td>5, ponendo il Mediterraneo come priorità asso...</td>\n",
       "      <td>none</td>\n",
       "    </tr>\n",
       "    <tr>\n",
       "      <th>460</th>\n",
       "      <td>glienza, ci sia il rispetto dei nostri valori...</td>\n",
       "      <td>none</td>\n",
       "    </tr>\n",
       "  </tbody>\n",
       "</table>\n",
       "<p>448 rows × 2 columns</p>\n",
       "</div>"
      ],
      "text/plain": [
       "                                              Sentence   labels\n",
       "462   hole House expresses their condolences follow...     none\n",
       "198  tile environment for migrants, many do not kno...     none\n",
       "110  it on the record, because I do not think we ca...     none\n",
       "219  the amendment in the Lobby later. ParlaMint-GB...     none\n",
       "189  r Presidente del Consiglio - non è dovuto alla...     none\n",
       "..                                                 ...      ...\n",
       "292  se about who was low-skilled completely dispro...  migrant\n",
       "583   pea e di altri Governi dell'Unione europea de...     none\n",
       "356  le stragi che insanguinano larga parte del Con...     none\n",
       "522   5, ponendo il Mediterraneo come priorità asso...     none\n",
       "460   glienza, ci sia il rispetto dei nostri valori...     none\n",
       "\n",
       "[448 rows x 2 columns]"
      ]
     },
     "execution_count": 18,
     "metadata": {},
     "output_type": "execute_result"
    }
   ],
   "source": [
    "X_train"
   ]
  },
  {
   "attachments": {},
   "cell_type": "markdown",
   "metadata": {},
   "source": [
    "### Over/Under sampling"
   ]
  },
  {
   "cell_type": "code",
   "execution_count": 19,
   "metadata": {},
   "outputs": [],
   "source": [
    "from imblearn.over_sampling import RandomOverSampler\n",
    "\n",
    "# Instantiate the random oversampler\n",
    "ros = RandomOverSampler()\n",
    "\n",
    "# Perform oversampling\n",
    "X_resampled, y_resampled = ros.fit_resample(X_train.drop('label', axis=1), X_train['label'])"
   ]
  },
  {
   "cell_type": "code",
   "execution_count": 20,
   "metadata": {},
   "outputs": [
    {
     "data": {
      "text/plain": [
       "Counter({'migrant': 122, 'none': 122})"
      ]
     },
     "execution_count": 20,
     "metadata": {},
     "output_type": "execute_result"
    }
   ],
   "source": [
    "from collections import Counter\n",
    "Counter(y_resampled)"
   ]
  },
  {
   "cell_type": "code",
   "execution_count": 21,
   "metadata": {},
   "outputs": [],
   "source": [
    "X_resampled['labels'] = y_resampled"
   ]
  },
  {
   "cell_type": "code",
   "execution_count": 22,
   "metadata": {},
   "outputs": [],
   "source": [
    "X_resampled['split'] = 'train'\n",
    "X_val['split'] = 'dev'\n",
    "X_test['split'] = 'test'\n",
    "final_df = pd.concat([X_resampled, X_val, X_test])\n",
    "final_df.to_csv('undersampling_filtered_ds_remove_discrepancies.csv', index=False)"
   ]
  },
  {
   "cell_type": "code",
   "execution_count": 23,
   "metadata": {},
   "outputs": [
    {
     "data": {
      "text/plain": [
       "Counter({'migrant': 122, 'none': 122})"
      ]
     },
     "execution_count": 23,
     "metadata": {},
     "output_type": "execute_result"
    }
   ],
   "source": [
    "Counter(X_resampled.labels)"
   ]
  },
  {
   "cell_type": "code",
   "execution_count": 28,
   "metadata": {},
   "outputs": [],
   "source": [
    "X_train['split'] = 'train'\n",
    "X_val['split'] = 'dev'\n",
    "X_test['split'] = 'test'"
   ]
  },
  {
   "cell_type": "code",
   "execution_count": 29,
   "metadata": {},
   "outputs": [
    {
     "data": {
      "text/plain": [
       "489       none\n",
       "799    migrant\n",
       "344    migrant\n",
       "116       none\n",
       "772    migrant\n",
       "        ...   \n",
       "388       none\n",
       "469       none\n",
       "436       none\n",
       "56     migrant\n",
       "216       none\n",
       "Name: labels, Length: 82, dtype: object"
      ]
     },
     "execution_count": 29,
     "metadata": {},
     "output_type": "execute_result"
    }
   ],
   "source": [
    "X_val.labels"
   ]
  },
  {
   "cell_type": "code",
   "execution_count": 30,
   "metadata": {},
   "outputs": [],
   "source": [
    "final_df = pd.concat([X_train, X_val, X_test])"
   ]
  },
  {
   "cell_type": "code",
   "execution_count": 31,
   "metadata": {},
   "outputs": [],
   "source": [
    "final_df.to_csv('oversampling_filtered_ds_remove_discrepancies.csv', index=False)"
   ]
  },
  {
   "cell_type": "code",
   "execution_count": 44,
   "metadata": {},
   "outputs": [
    {
     "ename": "NameError",
     "evalue": "name 'final_df' is not defined",
     "output_type": "error",
     "traceback": [
      "\u001b[0;31m---------------------------------------------------------------------------\u001b[0m",
      "\u001b[0;31mNameError\u001b[0m                                 Traceback (most recent call last)",
      "Cell \u001b[0;32mIn[44], line 1\u001b[0m\n\u001b[0;32m----> 1\u001b[0m final_df\u001b[39m.\u001b[39mlabels\u001b[39m.\u001b[39munique()\n",
      "\u001b[0;31mNameError\u001b[0m: name 'final_df' is not defined"
     ]
    }
   ],
   "source": [
    "final_df.labels.unique()"
   ]
  },
  {
   "attachments": {},
   "cell_type": "markdown",
   "metadata": {},
   "source": [
    "### Check if there are any sentence that surpases 512 tokens"
   ]
  },
  {
   "cell_type": "code",
   "execution_count": 30,
   "metadata": {},
   "outputs": [
    {
     "data": {
      "text/plain": [
       "[]"
      ]
     },
     "execution_count": 30,
     "metadata": {},
     "output_type": "execute_result"
    }
   ],
   "source": [
    "from transformers import AutoTokenizer\n",
    "tokenizer = AutoTokenizer.from_pretrained('bert-base-cased')\n",
    "['danger' for x in X_train.Sentence.apply(lambda x: tokenizer(x, truncation = False)) if len(x['input_ids']) >512]"
   ]
  },
  {
   "attachments": {},
   "cell_type": "markdown",
   "metadata": {},
   "source": [
    "### Some results"
   ]
  },
  {
   "cell_type": "code",
   "execution_count": 21,
   "metadata": {},
   "outputs": [
    {
     "name": "stdout",
     "output_type": "stream",
     "text": [
      "Average: 0.6522829022153218\n",
      "Standard Deviation: 0.07847368195222722\n"
     ]
    }
   ],
   "source": [
    "import numpy as np\n",
    "\"New best hyperparameters: {'lr': 3e-05, 'epochs': 2, 'batchsize': 8}\"\n",
    "# Try without 8 like bert model\n",
    "data = np.array([0.7330779054916986, 0.5515734265734266, 0.6305555555555556, 0.5725, 0.6360153256704981, 0.6524390243902438, 0.7732368896925859, 0.5777777777777778, 0.7799227799227799, 0.6157303370786517])\n",
    "\n",
    "avg = np.mean(data)\n",
    "std_dev = np.std(data)\n",
    "\n",
    "print(f\"Average: {avg}\")\n",
    "print(f\"Standard Deviation: {std_dev}\")\n"
   ]
  },
  {
   "cell_type": "code",
   "execution_count": 35,
   "metadata": {},
   "outputs": [
    {
     "name": "stdout",
     "output_type": "stream",
     "text": [
      "Average: 0.7641232809341154\n",
      "Standard Deviation: 0.02320092772172989\n"
     ]
    }
   ],
   "source": [
    "#random undersampling\n",
    "#{'lr': 5e-05, 'epochs': 4, 'batchsize': 8}\n",
    "data = np.array([0.7470558115719407, 0.7544324772162385, 0.7470558115719407, 0.7898989898989899, 0.7410449065175607, 0.7494505494505495, 0.7442622950819673, 0.7636363636363637, 0.8021978021978022, 0.8021978021978022])\n",
    "avg = np.mean(data)\n",
    "std_dev = np.std(data)\n",
    "\n",
    "print(f\"Average: {avg}\")\n",
    "print(f\"Standard Deviation: {std_dev}\")"
   ]
  },
  {
   "cell_type": "code",
   "execution_count": 36,
   "metadata": {},
   "outputs": [
    {
     "name": "stdout",
     "output_type": "stream",
     "text": [
      "Average: 0.7509622261542782\n",
      "Standard Deviation: 0.02651547866575898\n"
     ]
    }
   ],
   "source": [
    "#random oversampling\n",
    "#{'lr': 5e-05, 'epochs': 3, 'batchsize': 16}\n",
    "data = np.array([0.7442622950819673, 0.752990851513019, 0.7590940288263555, 0.7590940288263555, 0.7350543478260869, 0.7085597826086957, 0.7858613589567605, 0.7173425366695427, 0.8003072196620584, 0.7470558115719407])\n",
    "avg = np.mean(data)\n",
    "std_dev = np.std(data)\n",
    "\n",
    "print(f\"Average: {avg}\")\n",
    "print(f\"Standard Deviation: {std_dev}\")"
   ]
  }
 ],
 "metadata": {
  "kernelspec": {
   "display_name": "base",
   "language": "python",
   "name": "python3"
  },
  "language_info": {
   "codemirror_mode": {
    "name": "ipython",
    "version": 3
   },
   "file_extension": ".py",
   "mimetype": "text/x-python",
   "name": "python",
   "nbconvert_exporter": "python",
   "pygments_lexer": "ipython3",
   "version": "3.10.8"
  },
  "orig_nbformat": 4
 },
 "nbformat": 4,
 "nbformat_minor": 2
}
